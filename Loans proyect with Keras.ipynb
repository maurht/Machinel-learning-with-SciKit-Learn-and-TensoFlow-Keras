{
 "cells": [
  {
   "cell_type": "markdown",
   "id": "fa3b20b7",
   "metadata": {},
   "source": [
    "# Keras project\n",
    "\n",
    "We will be using a subset of the LendingClub DataSet obtained from Kaggle: https://www.kaggle.com/wordsforthewise/lending-club\n",
    "\n",
    "Given historical data on loans given out with information on whether or not the borrower defaulted (charge-off), can we build a model thatcan predict wether or nor a borrower will pay back their loan? This way in the future when we get a new potential customer we can assess whether or not they are likely to pay back the loan. "
   ]
  },
  {
   "cell_type": "code",
   "execution_count": 2,
   "id": "cabfbf6c",
   "metadata": {},
   "outputs": [],
   "source": [
    "import pandas as pd\n",
    "import numpy as np\n",
    "import matplotlib.pyplot as plt\n",
    "import seaborn as sns"
   ]
  },
  {
   "cell_type": "code",
   "execution_count": 3,
   "id": "ab809e9b",
   "metadata": {},
   "outputs": [],
   "source": [
    "sns.set_theme()"
   ]
  },
  {
   "cell_type": "markdown",
   "id": "72173b8c",
   "metadata": {},
   "source": [
    "## Description of the data columns"
   ]
  },
  {
   "cell_type": "markdown",
   "id": "627d20d0",
   "metadata": {},
   "source": [
    "*loan_amnt: The listed amount of the loan applied for by the borrower. If at some point in time, the credit department reduces the loan amount, then it will be reflected in this value.\n",
    "\n",
    "\n",
    "*term: The number of payments on the loan. Values are in months and can be either 36 or 60.\n",
    "\n",
    "\n",
    "*int_rate: Interest Rate on the loan\n",
    "\n",
    "\n",
    "*installment: The monthly payment owed by the borrower if the loan originates.\n",
    "\n",
    "\n",
    "*grade: LC assigned loan grade\n",
    "\n",
    "\n",
    "*sub_grade: LC assigned loan subgrade\n",
    "\n",
    "\n",
    "*emp_title: The job title supplied by the Borrower when applying for the loan.*\n",
    "\n",
    "\n",
    "*emp_length: Employment length in years. Possible values are between 0 and 10 where 0 means less than one year and 10 means ten or more years. \n",
    "\n",
    "\n",
    "*home_ownership: The home ownership status provided by the borrower during registration or obtained from the credit report. Our values are: RENT, OWN, MORTGAGE, OTHER\n",
    "\n",
    "\n",
    "*annual_inc: The self-reported annual income provided by the borrower during registration.\n",
    "\n",
    "\n",
    "*verification_status: Indicates if income was verified by LC, not verified, or if the income source was verified\n",
    "\n",
    "\n",
    "*issue_d: The month which the loan was funded\n",
    "\n",
    "\n",
    "*loan_status: Current status of the loan\n",
    "\n",
    "\n",
    "*purpose: A category provided by the borrower for the loan request. \n",
    "\n",
    "\n",
    "*title: The loan title provided by the borrower\n",
    "\n",
    "\n",
    "*zip_code: The first 3 numbers of the zip code provided by the borrower in the loan application.\n",
    "\n",
    "\n",
    "*addr_state: The state provided by the borrower in the loan application\n",
    "\n",
    "\n",
    "*dti: A ratio calculated using the borrower’s total monthly debt payments on the total debt obligations, excluding mortgage and the requested LC loan, divided by the borrower’s self-reported monthly income.\n",
    "\n",
    "\n",
    "*earliest_cr_line: The month the borrower's earliest reported credit line was opened\n",
    "\n",
    "\n",
    "*open_acc: The number of open credit lines in the borrower's credit file.\n",
    "\n",
    "\n",
    "*pub_rec: Number of derogatory public records\n",
    "\n",
    "\n",
    "*revol_bal: Total credit revolving balance\n",
    "\n",
    "\n",
    "*revol_util: Revolving line utilization rate, or the amount of credit the borrower is using relative to all available revolving credit.\n",
    "\n",
    "\n",
    "*total_acc: The total number of credit lines currently in the borrower's credit file\n",
    "\n",
    "\n",
    "*initial_list_status: The initial listing status of the loan. Possible values are – W, F\n",
    "\n",
    "\n",
    "*application_type: Indicates whether the loan is an individual application or a joint application with two co-borrowers\n",
    "\n",
    "\n",
    "*mort_acc: Number of mortgage accounts.\n",
    "\n",
    "\n",
    "*pub_rec_bankruptcies: Number of public record bankruptcies"
   ]
  },
  {
   "cell_type": "code",
   "execution_count": 4,
   "id": "99dc31d0",
   "metadata": {},
   "outputs": [],
   "source": [
    "df = pd.read_csv('lending_club_loan_two.csv')"
   ]
  },
  {
   "cell_type": "code",
   "execution_count": 5,
   "id": "d3e7b313",
   "metadata": {
    "scrolled": true
   },
   "outputs": [
    {
     "name": "stdout",
     "output_type": "stream",
     "text": [
      "<class 'pandas.core.frame.DataFrame'>\n",
      "RangeIndex: 396030 entries, 0 to 396029\n",
      "Data columns (total 27 columns):\n",
      " #   Column                Non-Null Count   Dtype  \n",
      "---  ------                --------------   -----  \n",
      " 0   loan_amnt             396030 non-null  float64\n",
      " 1   term                  396030 non-null  object \n",
      " 2   int_rate              396030 non-null  float64\n",
      " 3   installment           396030 non-null  float64\n",
      " 4   grade                 396030 non-null  object \n",
      " 5   sub_grade             396030 non-null  object \n",
      " 6   emp_title             373103 non-null  object \n",
      " 7   emp_length            377729 non-null  object \n",
      " 8   home_ownership        396030 non-null  object \n",
      " 9   annual_inc            396030 non-null  float64\n",
      " 10  verification_status   396030 non-null  object \n",
      " 11  issue_d               396030 non-null  object \n",
      " 12  loan_status           396030 non-null  object \n",
      " 13  purpose               396030 non-null  object \n",
      " 14  title                 394275 non-null  object \n",
      " 15  dti                   396030 non-null  float64\n",
      " 16  earliest_cr_line      396030 non-null  object \n",
      " 17  open_acc              396030 non-null  float64\n",
      " 18  pub_rec               396030 non-null  float64\n",
      " 19  revol_bal             396030 non-null  float64\n",
      " 20  revol_util            395754 non-null  float64\n",
      " 21  total_acc             396030 non-null  float64\n",
      " 22  initial_list_status   396030 non-null  object \n",
      " 23  application_type      396030 non-null  object \n",
      " 24  mort_acc              358235 non-null  float64\n",
      " 25  pub_rec_bankruptcies  395495 non-null  float64\n",
      " 26  address               396030 non-null  object \n",
      "dtypes: float64(12), object(15)\n",
      "memory usage: 81.6+ MB\n"
     ]
    }
   ],
   "source": [
    "df.info()"
   ]
  },
  {
   "cell_type": "code",
   "execution_count": 6,
   "id": "3cedb572",
   "metadata": {
    "scrolled": false
   },
   "outputs": [
    {
     "data": {
      "text/html": [
       "<div>\n",
       "<style scoped>\n",
       "    .dataframe tbody tr th:only-of-type {\n",
       "        vertical-align: middle;\n",
       "    }\n",
       "\n",
       "    .dataframe tbody tr th {\n",
       "        vertical-align: top;\n",
       "    }\n",
       "\n",
       "    .dataframe thead th {\n",
       "        text-align: right;\n",
       "    }\n",
       "</style>\n",
       "<table border=\"1\" class=\"dataframe\">\n",
       "  <thead>\n",
       "    <tr style=\"text-align: right;\">\n",
       "      <th></th>\n",
       "      <th>loan_amnt</th>\n",
       "      <th>term</th>\n",
       "      <th>int_rate</th>\n",
       "      <th>installment</th>\n",
       "      <th>grade</th>\n",
       "      <th>sub_grade</th>\n",
       "      <th>emp_title</th>\n",
       "      <th>emp_length</th>\n",
       "      <th>home_ownership</th>\n",
       "      <th>annual_inc</th>\n",
       "      <th>...</th>\n",
       "      <th>open_acc</th>\n",
       "      <th>pub_rec</th>\n",
       "      <th>revol_bal</th>\n",
       "      <th>revol_util</th>\n",
       "      <th>total_acc</th>\n",
       "      <th>initial_list_status</th>\n",
       "      <th>application_type</th>\n",
       "      <th>mort_acc</th>\n",
       "      <th>pub_rec_bankruptcies</th>\n",
       "      <th>address</th>\n",
       "    </tr>\n",
       "  </thead>\n",
       "  <tbody>\n",
       "    <tr>\n",
       "      <th>0</th>\n",
       "      <td>10000.0</td>\n",
       "      <td>36 months</td>\n",
       "      <td>11.44</td>\n",
       "      <td>329.48</td>\n",
       "      <td>B</td>\n",
       "      <td>B4</td>\n",
       "      <td>Marketing</td>\n",
       "      <td>10+ years</td>\n",
       "      <td>RENT</td>\n",
       "      <td>117000.0</td>\n",
       "      <td>...</td>\n",
       "      <td>16.0</td>\n",
       "      <td>0.0</td>\n",
       "      <td>36369.0</td>\n",
       "      <td>41.8</td>\n",
       "      <td>25.0</td>\n",
       "      <td>w</td>\n",
       "      <td>INDIVIDUAL</td>\n",
       "      <td>0.0</td>\n",
       "      <td>0.0</td>\n",
       "      <td>0174 Michelle Gateway\\nMendozaberg, OK 22690</td>\n",
       "    </tr>\n",
       "    <tr>\n",
       "      <th>1</th>\n",
       "      <td>8000.0</td>\n",
       "      <td>36 months</td>\n",
       "      <td>11.99</td>\n",
       "      <td>265.68</td>\n",
       "      <td>B</td>\n",
       "      <td>B5</td>\n",
       "      <td>Credit analyst</td>\n",
       "      <td>4 years</td>\n",
       "      <td>MORTGAGE</td>\n",
       "      <td>65000.0</td>\n",
       "      <td>...</td>\n",
       "      <td>17.0</td>\n",
       "      <td>0.0</td>\n",
       "      <td>20131.0</td>\n",
       "      <td>53.3</td>\n",
       "      <td>27.0</td>\n",
       "      <td>f</td>\n",
       "      <td>INDIVIDUAL</td>\n",
       "      <td>3.0</td>\n",
       "      <td>0.0</td>\n",
       "      <td>1076 Carney Fort Apt. 347\\nLoganmouth, SD 05113</td>\n",
       "    </tr>\n",
       "    <tr>\n",
       "      <th>2</th>\n",
       "      <td>15600.0</td>\n",
       "      <td>36 months</td>\n",
       "      <td>10.49</td>\n",
       "      <td>506.97</td>\n",
       "      <td>B</td>\n",
       "      <td>B3</td>\n",
       "      <td>Statistician</td>\n",
       "      <td>&lt; 1 year</td>\n",
       "      <td>RENT</td>\n",
       "      <td>43057.0</td>\n",
       "      <td>...</td>\n",
       "      <td>13.0</td>\n",
       "      <td>0.0</td>\n",
       "      <td>11987.0</td>\n",
       "      <td>92.2</td>\n",
       "      <td>26.0</td>\n",
       "      <td>f</td>\n",
       "      <td>INDIVIDUAL</td>\n",
       "      <td>0.0</td>\n",
       "      <td>0.0</td>\n",
       "      <td>87025 Mark Dale Apt. 269\\nNew Sabrina, WV 05113</td>\n",
       "    </tr>\n",
       "    <tr>\n",
       "      <th>3</th>\n",
       "      <td>7200.0</td>\n",
       "      <td>36 months</td>\n",
       "      <td>6.49</td>\n",
       "      <td>220.65</td>\n",
       "      <td>A</td>\n",
       "      <td>A2</td>\n",
       "      <td>Client Advocate</td>\n",
       "      <td>6 years</td>\n",
       "      <td>RENT</td>\n",
       "      <td>54000.0</td>\n",
       "      <td>...</td>\n",
       "      <td>6.0</td>\n",
       "      <td>0.0</td>\n",
       "      <td>5472.0</td>\n",
       "      <td>21.5</td>\n",
       "      <td>13.0</td>\n",
       "      <td>f</td>\n",
       "      <td>INDIVIDUAL</td>\n",
       "      <td>0.0</td>\n",
       "      <td>0.0</td>\n",
       "      <td>823 Reid Ford\\nDelacruzside, MA 00813</td>\n",
       "    </tr>\n",
       "    <tr>\n",
       "      <th>4</th>\n",
       "      <td>24375.0</td>\n",
       "      <td>60 months</td>\n",
       "      <td>17.27</td>\n",
       "      <td>609.33</td>\n",
       "      <td>C</td>\n",
       "      <td>C5</td>\n",
       "      <td>Destiny Management Inc.</td>\n",
       "      <td>9 years</td>\n",
       "      <td>MORTGAGE</td>\n",
       "      <td>55000.0</td>\n",
       "      <td>...</td>\n",
       "      <td>13.0</td>\n",
       "      <td>0.0</td>\n",
       "      <td>24584.0</td>\n",
       "      <td>69.8</td>\n",
       "      <td>43.0</td>\n",
       "      <td>f</td>\n",
       "      <td>INDIVIDUAL</td>\n",
       "      <td>1.0</td>\n",
       "      <td>0.0</td>\n",
       "      <td>679 Luna Roads\\nGreggshire, VA 11650</td>\n",
       "    </tr>\n",
       "  </tbody>\n",
       "</table>\n",
       "<p>5 rows × 27 columns</p>\n",
       "</div>"
      ],
      "text/plain": [
       "   loan_amnt        term  int_rate  installment grade sub_grade  \\\n",
       "0    10000.0   36 months     11.44       329.48     B        B4   \n",
       "1     8000.0   36 months     11.99       265.68     B        B5   \n",
       "2    15600.0   36 months     10.49       506.97     B        B3   \n",
       "3     7200.0   36 months      6.49       220.65     A        A2   \n",
       "4    24375.0   60 months     17.27       609.33     C        C5   \n",
       "\n",
       "                 emp_title emp_length home_ownership  annual_inc  ...  \\\n",
       "0                Marketing  10+ years           RENT    117000.0  ...   \n",
       "1          Credit analyst     4 years       MORTGAGE     65000.0  ...   \n",
       "2             Statistician   < 1 year           RENT     43057.0  ...   \n",
       "3          Client Advocate    6 years           RENT     54000.0  ...   \n",
       "4  Destiny Management Inc.    9 years       MORTGAGE     55000.0  ...   \n",
       "\n",
       "  open_acc pub_rec revol_bal revol_util total_acc  initial_list_status  \\\n",
       "0     16.0     0.0   36369.0       41.8      25.0                    w   \n",
       "1     17.0     0.0   20131.0       53.3      27.0                    f   \n",
       "2     13.0     0.0   11987.0       92.2      26.0                    f   \n",
       "3      6.0     0.0    5472.0       21.5      13.0                    f   \n",
       "4     13.0     0.0   24584.0       69.8      43.0                    f   \n",
       "\n",
       "  application_type  mort_acc  pub_rec_bankruptcies  \\\n",
       "0       INDIVIDUAL       0.0                   0.0   \n",
       "1       INDIVIDUAL       3.0                   0.0   \n",
       "2       INDIVIDUAL       0.0                   0.0   \n",
       "3       INDIVIDUAL       0.0                   0.0   \n",
       "4       INDIVIDUAL       1.0                   0.0   \n",
       "\n",
       "                                           address  \n",
       "0     0174 Michelle Gateway\\nMendozaberg, OK 22690  \n",
       "1  1076 Carney Fort Apt. 347\\nLoganmouth, SD 05113  \n",
       "2  87025 Mark Dale Apt. 269\\nNew Sabrina, WV 05113  \n",
       "3            823 Reid Ford\\nDelacruzside, MA 00813  \n",
       "4             679 Luna Roads\\nGreggshire, VA 11650  \n",
       "\n",
       "[5 rows x 27 columns]"
      ]
     },
     "execution_count": 6,
     "metadata": {},
     "output_type": "execute_result"
    }
   ],
   "source": [
    "df.head()"
   ]
  },
  {
   "cell_type": "code",
   "execution_count": 7,
   "id": "785bffd0",
   "metadata": {},
   "outputs": [
    {
     "data": {
      "text/html": [
       "<div>\n",
       "<style scoped>\n",
       "    .dataframe tbody tr th:only-of-type {\n",
       "        vertical-align: middle;\n",
       "    }\n",
       "\n",
       "    .dataframe tbody tr th {\n",
       "        vertical-align: top;\n",
       "    }\n",
       "\n",
       "    .dataframe thead th {\n",
       "        text-align: right;\n",
       "    }\n",
       "</style>\n",
       "<table border=\"1\" class=\"dataframe\">\n",
       "  <thead>\n",
       "    <tr style=\"text-align: right;\">\n",
       "      <th></th>\n",
       "      <th>count</th>\n",
       "      <th>mean</th>\n",
       "      <th>std</th>\n",
       "      <th>min</th>\n",
       "      <th>25%</th>\n",
       "      <th>50%</th>\n",
       "      <th>75%</th>\n",
       "      <th>max</th>\n",
       "    </tr>\n",
       "  </thead>\n",
       "  <tbody>\n",
       "    <tr>\n",
       "      <th>loan_amnt</th>\n",
       "      <td>396030.0</td>\n",
       "      <td>14113.888089</td>\n",
       "      <td>8357.441341</td>\n",
       "      <td>500.00</td>\n",
       "      <td>8000.00</td>\n",
       "      <td>12000.00</td>\n",
       "      <td>20000.00</td>\n",
       "      <td>40000.00</td>\n",
       "    </tr>\n",
       "    <tr>\n",
       "      <th>int_rate</th>\n",
       "      <td>396030.0</td>\n",
       "      <td>13.639400</td>\n",
       "      <td>4.472157</td>\n",
       "      <td>5.32</td>\n",
       "      <td>10.49</td>\n",
       "      <td>13.33</td>\n",
       "      <td>16.49</td>\n",
       "      <td>30.99</td>\n",
       "    </tr>\n",
       "    <tr>\n",
       "      <th>installment</th>\n",
       "      <td>396030.0</td>\n",
       "      <td>431.849698</td>\n",
       "      <td>250.727790</td>\n",
       "      <td>16.08</td>\n",
       "      <td>250.33</td>\n",
       "      <td>375.43</td>\n",
       "      <td>567.30</td>\n",
       "      <td>1533.81</td>\n",
       "    </tr>\n",
       "    <tr>\n",
       "      <th>annual_inc</th>\n",
       "      <td>396030.0</td>\n",
       "      <td>74203.175798</td>\n",
       "      <td>61637.621158</td>\n",
       "      <td>0.00</td>\n",
       "      <td>45000.00</td>\n",
       "      <td>64000.00</td>\n",
       "      <td>90000.00</td>\n",
       "      <td>8706582.00</td>\n",
       "    </tr>\n",
       "    <tr>\n",
       "      <th>dti</th>\n",
       "      <td>396030.0</td>\n",
       "      <td>17.379514</td>\n",
       "      <td>18.019092</td>\n",
       "      <td>0.00</td>\n",
       "      <td>11.28</td>\n",
       "      <td>16.91</td>\n",
       "      <td>22.98</td>\n",
       "      <td>9999.00</td>\n",
       "    </tr>\n",
       "    <tr>\n",
       "      <th>open_acc</th>\n",
       "      <td>396030.0</td>\n",
       "      <td>11.311153</td>\n",
       "      <td>5.137649</td>\n",
       "      <td>0.00</td>\n",
       "      <td>8.00</td>\n",
       "      <td>10.00</td>\n",
       "      <td>14.00</td>\n",
       "      <td>90.00</td>\n",
       "    </tr>\n",
       "    <tr>\n",
       "      <th>pub_rec</th>\n",
       "      <td>396030.0</td>\n",
       "      <td>0.178191</td>\n",
       "      <td>0.530671</td>\n",
       "      <td>0.00</td>\n",
       "      <td>0.00</td>\n",
       "      <td>0.00</td>\n",
       "      <td>0.00</td>\n",
       "      <td>86.00</td>\n",
       "    </tr>\n",
       "    <tr>\n",
       "      <th>revol_bal</th>\n",
       "      <td>396030.0</td>\n",
       "      <td>15844.539853</td>\n",
       "      <td>20591.836109</td>\n",
       "      <td>0.00</td>\n",
       "      <td>6025.00</td>\n",
       "      <td>11181.00</td>\n",
       "      <td>19620.00</td>\n",
       "      <td>1743266.00</td>\n",
       "    </tr>\n",
       "    <tr>\n",
       "      <th>revol_util</th>\n",
       "      <td>395754.0</td>\n",
       "      <td>53.791749</td>\n",
       "      <td>24.452193</td>\n",
       "      <td>0.00</td>\n",
       "      <td>35.80</td>\n",
       "      <td>54.80</td>\n",
       "      <td>72.90</td>\n",
       "      <td>892.30</td>\n",
       "    </tr>\n",
       "    <tr>\n",
       "      <th>total_acc</th>\n",
       "      <td>396030.0</td>\n",
       "      <td>25.414744</td>\n",
       "      <td>11.886991</td>\n",
       "      <td>2.00</td>\n",
       "      <td>17.00</td>\n",
       "      <td>24.00</td>\n",
       "      <td>32.00</td>\n",
       "      <td>151.00</td>\n",
       "    </tr>\n",
       "    <tr>\n",
       "      <th>mort_acc</th>\n",
       "      <td>358235.0</td>\n",
       "      <td>1.813991</td>\n",
       "      <td>2.147930</td>\n",
       "      <td>0.00</td>\n",
       "      <td>0.00</td>\n",
       "      <td>1.00</td>\n",
       "      <td>3.00</td>\n",
       "      <td>34.00</td>\n",
       "    </tr>\n",
       "    <tr>\n",
       "      <th>pub_rec_bankruptcies</th>\n",
       "      <td>395495.0</td>\n",
       "      <td>0.121648</td>\n",
       "      <td>0.356174</td>\n",
       "      <td>0.00</td>\n",
       "      <td>0.00</td>\n",
       "      <td>0.00</td>\n",
       "      <td>0.00</td>\n",
       "      <td>8.00</td>\n",
       "    </tr>\n",
       "  </tbody>\n",
       "</table>\n",
       "</div>"
      ],
      "text/plain": [
       "                         count          mean           std     min       25%  \\\n",
       "loan_amnt             396030.0  14113.888089   8357.441341  500.00   8000.00   \n",
       "int_rate              396030.0     13.639400      4.472157    5.32     10.49   \n",
       "installment           396030.0    431.849698    250.727790   16.08    250.33   \n",
       "annual_inc            396030.0  74203.175798  61637.621158    0.00  45000.00   \n",
       "dti                   396030.0     17.379514     18.019092    0.00     11.28   \n",
       "open_acc              396030.0     11.311153      5.137649    0.00      8.00   \n",
       "pub_rec               396030.0      0.178191      0.530671    0.00      0.00   \n",
       "revol_bal             396030.0  15844.539853  20591.836109    0.00   6025.00   \n",
       "revol_util            395754.0     53.791749     24.452193    0.00     35.80   \n",
       "total_acc             396030.0     25.414744     11.886991    2.00     17.00   \n",
       "mort_acc              358235.0      1.813991      2.147930    0.00      0.00   \n",
       "pub_rec_bankruptcies  395495.0      0.121648      0.356174    0.00      0.00   \n",
       "\n",
       "                           50%       75%         max  \n",
       "loan_amnt             12000.00  20000.00    40000.00  \n",
       "int_rate                 13.33     16.49       30.99  \n",
       "installment             375.43    567.30     1533.81  \n",
       "annual_inc            64000.00  90000.00  8706582.00  \n",
       "dti                      16.91     22.98     9999.00  \n",
       "open_acc                 10.00     14.00       90.00  \n",
       "pub_rec                   0.00      0.00       86.00  \n",
       "revol_bal             11181.00  19620.00  1743266.00  \n",
       "revol_util               54.80     72.90      892.30  \n",
       "total_acc                24.00     32.00      151.00  \n",
       "mort_acc                  1.00      3.00       34.00  \n",
       "pub_rec_bankruptcies      0.00      0.00        8.00  "
      ]
     },
     "execution_count": 7,
     "metadata": {},
     "output_type": "execute_result"
    }
   ],
   "source": [
    "df.describe().T"
   ]
  },
  {
   "cell_type": "markdown",
   "id": "1b1c418c",
   "metadata": {},
   "source": [
    "## Feature extraction"
   ]
  },
  {
   "cell_type": "markdown",
   "id": "c0fed275",
   "metadata": {},
   "source": [
    "We drop the features where we can't extract usefull information or at least it'd be extreamly hard to. This are the easy ones to spot"
   ]
  },
  {
   "cell_type": "code",
   "execution_count": 8,
   "id": "8e24350d",
   "metadata": {},
   "outputs": [
    {
     "data": {
      "text/plain": [
       "48817"
      ]
     },
     "execution_count": 8,
     "metadata": {},
     "output_type": "execute_result"
    }
   ],
   "source": [
    "df['title'].nunique()"
   ]
  },
  {
   "cell_type": "code",
   "execution_count": 9,
   "id": "82982a60",
   "metadata": {},
   "outputs": [
    {
     "data": {
      "text/plain": [
       "173105"
      ]
     },
     "execution_count": 9,
     "metadata": {},
     "output_type": "execute_result"
    }
   ],
   "source": [
    "df['emp_title'].nunique() "
   ]
  },
  {
   "cell_type": "markdown",
   "id": "0f67cfbb",
   "metadata": {},
   "source": [
    "There are too many kind of elemnts in this columns to make something out of it (turn them into dummy variables)"
   ]
  },
  {
   "cell_type": "code",
   "execution_count": 10,
   "id": "f121168f",
   "metadata": {},
   "outputs": [],
   "source": [
    "df = df.drop(['emp_title','title'], axis=1)"
   ]
  },
  {
   "cell_type": "markdown",
   "id": "557ebd95",
   "metadata": {},
   "source": [
    "### We'll check every column to take care of cathegorical data and null values and also, by way of visualization, cheching if the info is even usefull"
   ]
  },
  {
   "cell_type": "markdown",
   "id": "884d9ca2",
   "metadata": {},
   "source": [
    "####  loan_status"
   ]
  },
  {
   "cell_type": "code",
   "execution_count": 11,
   "id": "a7f85a7f",
   "metadata": {},
   "outputs": [
    {
     "data": {
      "text/plain": [
       "Fully Paid     318357\n",
       "Charged Off     77673\n",
       "Name: loan_status, dtype: int64"
      ]
     },
     "execution_count": 11,
     "metadata": {},
     "output_type": "execute_result"
    }
   ],
   "source": [
    "df['loan_status'].value_counts()"
   ]
  },
  {
   "cell_type": "code",
   "execution_count": 12,
   "id": "2986748e",
   "metadata": {},
   "outputs": [
    {
     "data": {
      "text/plain": [
       "<AxesSubplot:xlabel='loan_status', ylabel='count'>"
      ]
     },
     "execution_count": 12,
     "metadata": {},
     "output_type": "execute_result"
    },
    {
     "data": {
      "image/png": "[encoded data removed]",
      "text/plain": [
       "<Figure size 432x288 with 1 Axes>"
      ]
     },
     "metadata": {},
     "output_type": "display_data"
    }
   ],
   "source": [
    "sns.countplot(x=df['loan_status'])"
   ]
  },
  {
   "cell_type": "markdown",
   "id": "2571c8e0",
   "metadata": {},
   "source": [
    "For the loan_status we set 1  as fully paid and 0 for charged off."
   ]
  },
  {
   "cell_type": "code",
   "execution_count": 13,
   "id": "da319d93",
   "metadata": {},
   "outputs": [],
   "source": [
    "df['loan_status'] = df['loan_status'].apply(lambda status: int(status == 'Fully Paid'))"
   ]
  },
  {
   "cell_type": "markdown",
   "id": "306bdced",
   "metadata": {},
   "source": [
    "#### address"
   ]
  },
  {
   "cell_type": "markdown",
   "id": "34fafb5a",
   "metadata": {},
   "source": [
    "Making use of the adress by extracting the zip code"
   ]
  },
  {
   "cell_type": "code",
   "execution_count": 14,
   "id": "4beb394f",
   "metadata": {},
   "outputs": [],
   "source": [
    "df['zip_code'] = df['address'].apply(lambda x: int(x.split()[-1]))"
   ]
  },
  {
   "cell_type": "code",
   "execution_count": 15,
   "id": "10675ca9",
   "metadata": {},
   "outputs": [],
   "source": [
    "df = df.drop('address',axis=1)"
   ]
  },
  {
   "cell_type": "markdown",
   "id": "11092513",
   "metadata": {},
   "source": [
    "#### term"
   ]
  },
  {
   "cell_type": "markdown",
   "id": "384f3211",
   "metadata": {},
   "source": [
    "We turn the term column elements into a 0 if the ter is 36 months long or 1 if its 60 months long"
   ]
  },
  {
   "cell_type": "code",
   "execution_count": 16,
   "id": "54c8ddf9",
   "metadata": {},
   "outputs": [],
   "source": [
    "df['term'] = df['term'].apply(lambda x: (int(x.split()[0])-36)/24)"
   ]
  },
  {
   "cell_type": "code",
   "execution_count": 17,
   "id": "b5704d82",
   "metadata": {},
   "outputs": [
    {
     "data": {
      "text/plain": [
       "<AxesSubplot:xlabel='term', ylabel='count'>"
      ]
     },
     "execution_count": 17,
     "metadata": {},
     "output_type": "execute_result"
    },
    {
     "data": {
      "image/png": "[encoded data removed]",
      "text/plain": [
       "<Figure size 1080x432 with 1 Axes>"
      ]
     },
     "metadata": {},
     "output_type": "display_data"
    }
   ],
   "source": [
    "plt.figure(figsize=(15,6))\n",
    "sns.countplot(data=df,x='term', hue='loan_status')"
   ]
  },
  {
   "cell_type": "markdown",
   "id": "aa9e2c68",
   "metadata": {},
   "source": [
    "Way more probable for the loan to be fully payed when the term is 36 months long"
   ]
  },
  {
   "cell_type": "markdown",
   "id": "d52416c1",
   "metadata": {},
   "source": [
    "#### grade\n",
    "We'll turn this cathegorical data into dummies "
   ]
  },
  {
   "cell_type": "code",
   "execution_count": 18,
   "id": "c32a3073",
   "metadata": {},
   "outputs": [
    {
     "data": {
      "text/plain": [
       "array(['B', 'A', 'C', 'E', 'D', 'F', 'G'], dtype=object)"
      ]
     },
     "execution_count": 18,
     "metadata": {},
     "output_type": "execute_result"
    }
   ],
   "source": [
    "df['grade'].unique()"
   ]
  },
  {
   "cell_type": "code",
   "execution_count": 19,
   "id": "bf0ed4eb",
   "metadata": {
    "scrolled": true
   },
   "outputs": [
    {
     "data": {
      "text/plain": [
       "array(['B4', 'B5', 'B3', 'A2', 'C5', 'C3', 'A1', 'B2', 'C1', 'A5', 'E4',\n",
       "       'A4', 'A3', 'D1', 'C2', 'B1', 'D3', 'D5', 'D2', 'E1', 'E2', 'E5',\n",
       "       'F4', 'E3', 'D4', 'G1', 'F5', 'G2', 'C4', 'F1', 'F3', 'G5', 'G4',\n",
       "       'F2', 'G3'], dtype=object)"
      ]
     },
     "execution_count": 19,
     "metadata": {},
     "output_type": "execute_result"
    }
   ],
   "source": [
    "df['sub_grade'].unique()"
   ]
  },
  {
   "cell_type": "code",
   "execution_count": 20,
   "id": "d29f085a",
   "metadata": {},
   "outputs": [],
   "source": [
    "grade_order = ['A1','A2','A3','A4','A5','B1','B2','B3','B4','B5','C1','C2','C3','C4','C5','D1','D2','D3','D4','D5','E1','E2','E3','E4','E5','F1','F2','F3','F4','F5','G1','G2','G3','G4','G5']"
   ]
  },
  {
   "cell_type": "code",
   "execution_count": 21,
   "id": "6deac5b5",
   "metadata": {},
   "outputs": [
    {
     "data": {
      "text/plain": [
       "<AxesSubplot:xlabel='sub_grade', ylabel='count'>"
      ]
     },
     "execution_count": 21,
     "metadata": {},
     "output_type": "execute_result"
    },
    {
     "data": {
      "image/png": "[encoded data removed]",
      "text/plain": [
       "<Figure size 1080x432 with 1 Axes>"
      ]
     },
     "metadata": {},
     "output_type": "display_data"
    }
   ],
   "source": [
    "plt.figure(figsize=(15,6))\n",
    "sns.countplot(data=df,x='sub_grade', hue='loan_status', order=grade_order)"
   ]
  },
  {
   "cell_type": "code",
   "execution_count": 22,
   "id": "eebdfc43",
   "metadata": {},
   "outputs": [],
   "source": [
    "df = pd.concat([df,pd.get_dummies(df['sub_grade'], drop_first=True)],axis=1)"
   ]
  },
  {
   "cell_type": "code",
   "execution_count": 23,
   "id": "0ca948a0",
   "metadata": {},
   "outputs": [],
   "source": [
    "df=df.drop(['sub_grade','grade'], axis=1)"
   ]
  },
  {
   "cell_type": "markdown",
   "id": "c9532f93",
   "metadata": {},
   "source": [
    "#### emp_length"
   ]
  },
  {
   "cell_type": "markdown",
   "id": "1b60a79e",
   "metadata": {},
   "source": [
    "We map the employment lengt as the description mentions it, but first we take care of the nan values."
   ]
  },
  {
   "cell_type": "code",
   "execution_count": 24,
   "id": "13470be0",
   "metadata": {},
   "outputs": [],
   "source": [
    "df['emp_length']=df['emp_length'].fillna(0)"
   ]
  },
  {
   "cell_type": "code",
   "execution_count": 25,
   "id": "eb67140c",
   "metadata": {},
   "outputs": [
    {
     "data": {
      "text/plain": [
       "array(['10+ years', '4 years', '< 1 year', '6 years', '9 years',\n",
       "       '2 years', '3 years', '8 years', '7 years', '5 years', '1 year', 0],\n",
       "      dtype=object)"
      ]
     },
     "execution_count": 25,
     "metadata": {},
     "output_type": "execute_result"
    }
   ],
   "source": [
    "df['emp_length'].unique()"
   ]
  },
  {
   "cell_type": "code",
   "execution_count": 26,
   "id": "64898e08",
   "metadata": {},
   "outputs": [],
   "source": [
    "def emp_time(years):\n",
    "    if years == 0:\n",
    "        return 0\n",
    "    else:\n",
    "        x = years.split()[0]\n",
    "        if x == '<':\n",
    "            return 0\n",
    "        elif x.split('+')[0] == '10':\n",
    "            return 10\n",
    "        else:\n",
    "            return int(x)"
   ]
  },
  {
   "cell_type": "code",
   "execution_count": 27,
   "id": "0f7f6ad3",
   "metadata": {},
   "outputs": [],
   "source": [
    "df['emp_length'] = df['emp_length'].apply(emp_time)"
   ]
  },
  {
   "cell_type": "code",
   "execution_count": 28,
   "id": "2dd10014",
   "metadata": {},
   "outputs": [
    {
     "data": {
      "text/plain": [
       "<AxesSubplot:xlabel='emp_length', ylabel='count'>"
      ]
     },
     "execution_count": 28,
     "metadata": {},
     "output_type": "execute_result"
    },
    {
     "data": {
      "image/png": "[encoded data removed]",
      "text/plain": [
       "<Figure size 720x432 with 1 Axes>"
      ]
     },
     "metadata": {},
     "output_type": "display_data"
    }
   ],
   "source": [
    "plt.figure(figsize=(10,6))\n",
    "sns.countplot(data=df,x='emp_length', hue='loan_status')"
   ]
  },
  {
   "cell_type": "markdown",
   "id": "2b83f612",
   "metadata": {},
   "source": [
    "If we take the rate of number of loans with status 0 with the total number of loans per employment length we can see if this piece of information is usefull or not"
   ]
  },
  {
   "cell_type": "code",
   "execution_count": 29,
   "id": "1aca2bbf",
   "metadata": {},
   "outputs": [],
   "source": [
    "gb = df.groupby(['emp_length','loan_status']).count()"
   ]
  },
  {
   "cell_type": "code",
   "execution_count": 30,
   "id": "9c948256",
   "metadata": {},
   "outputs": [],
   "source": [
    "rates = np.zeros(11)\n",
    "for i in range(11):\n",
    "    rates[i] = gb['loan_amnt'][i][0]/ (gb['loan_amnt'][i][1]+gb['loan_amnt'][i][0])"
   ]
  },
  {
   "cell_type": "code",
   "execution_count": 31,
   "id": "d1799b43",
   "metadata": {},
   "outputs": [
    {
     "data": {
      "text/plain": [
       "4.7713314131197535"
      ]
     },
     "execution_count": 31,
     "metadata": {},
     "output_type": "execute_result"
    }
   ],
   "source": [
    "(rates.max() - rates.min())*100"
   ]
  },
  {
   "cell_type": "markdown",
   "id": "ca300f66",
   "metadata": {},
   "source": [
    "There is at most a $4\\%$ variation in the rates so maybe this column won't be of much use in the model"
   ]
  },
  {
   "cell_type": "code",
   "execution_count": 32,
   "id": "b33bc3d9",
   "metadata": {},
   "outputs": [],
   "source": [
    "df= df.drop('emp_length', axis=1)"
   ]
  },
  {
   "cell_type": "markdown",
   "id": "e7e6f729",
   "metadata": {},
   "source": [
    "#### issue_d"
   ]
  },
  {
   "cell_type": "markdown",
   "id": "d2b69ed2",
   "metadata": {},
   "source": [
    "In general, we dont know when will this happen, so we drop the feature"
   ]
  },
  {
   "cell_type": "code",
   "execution_count": 33,
   "id": "511cf5a8",
   "metadata": {},
   "outputs": [],
   "source": [
    "df = df.drop('issue_d', axis=1)"
   ]
  },
  {
   "cell_type": "markdown",
   "id": "68a549b0",
   "metadata": {},
   "source": [
    "#### application_type (cathegorical data)"
   ]
  },
  {
   "cell_type": "code",
   "execution_count": 34,
   "id": "4242c673",
   "metadata": {},
   "outputs": [
    {
     "data": {
      "text/plain": [
       "array(['INDIVIDUAL', 'JOINT', 'DIRECT_PAY'], dtype=object)"
      ]
     },
     "execution_count": 34,
     "metadata": {},
     "output_type": "execute_result"
    }
   ],
   "source": [
    "df['application_type'].unique()"
   ]
  },
  {
   "cell_type": "code",
   "execution_count": 35,
   "id": "2b51c068",
   "metadata": {},
   "outputs": [
    {
     "data": {
      "text/plain": [
       "'INDIVIDUAL'"
      ]
     },
     "execution_count": 35,
     "metadata": {},
     "output_type": "execute_result"
    }
   ],
   "source": [
    "df['application_type'][0]"
   ]
  },
  {
   "cell_type": "code",
   "execution_count": 36,
   "id": "190a58d3",
   "metadata": {},
   "outputs": [
    {
     "data": {
      "text/plain": [
       "application_type  loan_status\n",
       "DIRECT_PAY        0                 102\n",
       "                  1                 184\n",
       "INDIVIDUAL        0               77517\n",
       "                  1              317802\n",
       "JOINT             0                  54\n",
       "                  1                 371\n",
       "Name: loan_amnt, dtype: int64"
      ]
     },
     "execution_count": 36,
     "metadata": {},
     "output_type": "execute_result"
    }
   ],
   "source": [
    "df.groupby(['application_type','loan_status']).count()['loan_amnt']"
   ]
  },
  {
   "cell_type": "code",
   "execution_count": 37,
   "id": "a3513074",
   "metadata": {},
   "outputs": [
    {
     "data": {
      "text/plain": [
       "<AxesSubplot:xlabel='application_type', ylabel='count'>"
      ]
     },
     "execution_count": 37,
     "metadata": {},
     "output_type": "execute_result"
    },
    {
     "data": {
      "image/png": "[encoded data removed]",
      "text/plain": [
       "<Figure size 1080x432 with 1 Axes>"
      ]
     },
     "metadata": {},
     "output_type": "display_data"
    }
   ],
   "source": [
    "plt.figure(figsize=(15,6))\n",
    "sns.countplot(data=df, x='application_type', hue='loan_status')"
   ]
  },
  {
   "cell_type": "markdown",
   "id": "246a1b0b",
   "metadata": {},
   "source": [
    "Although there are distiguishable trends in all the cases, the joint and direct_pay make up for $\\sim 0.18\\%$ of all the data, so we'll discard this feature."
   ]
  },
  {
   "cell_type": "code",
   "execution_count": 38,
   "id": "e171a085",
   "metadata": {},
   "outputs": [],
   "source": [
    "df = df.drop('application_type', axis=1)"
   ]
  },
  {
   "cell_type": "markdown",
   "id": "83ac48ea",
   "metadata": {},
   "source": [
    "#### purpose"
   ]
  },
  {
   "cell_type": "code",
   "execution_count": 39,
   "id": "afd1eeae",
   "metadata": {},
   "outputs": [
    {
     "data": {
      "text/plain": [
       "array(['vacation', 'debt_consolidation', 'credit_card',\n",
       "       'home_improvement', 'small_business', 'major_purchase', 'other',\n",
       "       'medical', 'wedding', 'car', 'moving', 'house', 'educational',\n",
       "       'renewable_energy'], dtype=object)"
      ]
     },
     "execution_count": 39,
     "metadata": {},
     "output_type": "execute_result"
    }
   ],
   "source": [
    "df['purpose'].unique()"
   ]
  },
  {
   "cell_type": "code",
   "execution_count": 40,
   "id": "f1301b2d",
   "metadata": {},
   "outputs": [
    {
     "data": {
      "text/plain": [
       "<AxesSubplot:xlabel='purpose', ylabel='count'>"
      ]
     },
     "execution_count": 40,
     "metadata": {},
     "output_type": "execute_result"
    },
    {
     "data": {
      "image/png": "[encoded data removed]",
      "text/plain": [
       "<Figure size 1080x432 with 1 Axes>"
      ]
     },
     "metadata": {},
     "output_type": "display_data"
    }
   ],
   "source": [
    "plt.figure(figsize=(15,6))\n",
    "sns.countplot(data=df, x='purpose', hue='loan_status')"
   ]
  },
  {
   "cell_type": "markdown",
   "id": "3657514b",
   "metadata": {},
   "source": [
    "Kinda worth making the purpose data usable. It's dificult to see if there is any trend for any of the purpose kinds to fully pay o not the loan, more than that there are more fully paid than not."
   ]
  },
  {
   "cell_type": "code",
   "execution_count": 41,
   "id": "f90acd51",
   "metadata": {},
   "outputs": [],
   "source": [
    "df = pd.concat([pd.get_dummies(df['purpose'],drop_first=True),df],axis=1)"
   ]
  },
  {
   "cell_type": "code",
   "execution_count": 42,
   "id": "476a890b",
   "metadata": {},
   "outputs": [],
   "source": [
    "df = df.drop('purpose',axis=1)"
   ]
  },
  {
   "cell_type": "markdown",
   "id": "d5efcf9e",
   "metadata": {},
   "source": [
    "#### home_ownership"
   ]
  },
  {
   "cell_type": "code",
   "execution_count": 43,
   "id": "b6f089c6",
   "metadata": {},
   "outputs": [
    {
     "data": {
      "text/plain": [
       "MORTGAGE    198348\n",
       "RENT        159790\n",
       "OWN          37746\n",
       "OTHER          112\n",
       "NONE            31\n",
       "ANY              3\n",
       "Name: home_ownership, dtype: int64"
      ]
     },
     "execution_count": 43,
     "metadata": {},
     "output_type": "execute_result"
    }
   ],
   "source": [
    "df['home_ownership'].value_counts()"
   ]
  },
  {
   "cell_type": "markdown",
   "id": "91866175",
   "metadata": {},
   "source": [
    "It seems a person that pays rent is less probable to fully pay the loan. As for the NONE and ANY cathegories, well group them into the OTHER cathegory as they are not really an important part of the dataset"
   ]
  },
  {
   "cell_type": "code",
   "execution_count": 44,
   "id": "00014fae",
   "metadata": {},
   "outputs": [],
   "source": [
    "def home(x):\n",
    "    if x == 'NONE' or x == 'ANY':\n",
    "        return 'OTHER'\n",
    "    else:\n",
    "        return x"
   ]
  },
  {
   "cell_type": "code",
   "execution_count": 45,
   "id": "10ccb8db",
   "metadata": {},
   "outputs": [],
   "source": [
    "df['home_ownership'] = df['home_ownership'].apply(home)"
   ]
  },
  {
   "cell_type": "code",
   "execution_count": 46,
   "id": "0e1de301",
   "metadata": {},
   "outputs": [],
   "source": [
    "df = pd.concat([pd.get_dummies(df['home_ownership'],drop_first=True),df],axis=1)"
   ]
  },
  {
   "cell_type": "code",
   "execution_count": 47,
   "id": "c6dea47d",
   "metadata": {},
   "outputs": [],
   "source": [
    "df = df.drop('home_ownership',axis=1)"
   ]
  },
  {
   "cell_type": "markdown",
   "id": "92483b5f",
   "metadata": {},
   "source": [
    "#### earliest_cr_line"
   ]
  },
  {
   "cell_type": "code",
   "execution_count": 48,
   "id": "6a8a35b7",
   "metadata": {},
   "outputs": [],
   "source": [
    "df['earliest_cr_line_year'] = pd.to_datetime(df['earliest_cr_line']).apply(lambda x:x.year)"
   ]
  },
  {
   "cell_type": "code",
   "execution_count": 49,
   "id": "4d989ab9",
   "metadata": {},
   "outputs": [],
   "source": [
    "df = df.drop('earliest_cr_line',axis=1)"
   ]
  },
  {
   "cell_type": "code",
   "execution_count": 50,
   "id": "7d5d0ebe",
   "metadata": {},
   "outputs": [
    {
     "data": {
      "text/plain": [
       "<AxesSubplot:xlabel='earliest_cr_line_year', ylabel='Count'>"
      ]
     },
     "execution_count": 50,
     "metadata": {},
     "output_type": "execute_result"
    },
    {
     "data": {
      "image/png": "[encoded data removed]",
      "text/plain": [
       "<Figure size 1080x432 with 1 Axes>"
      ]
     },
     "metadata": {},
     "output_type": "display_data"
    }
   ],
   "source": [
    "plt.figure(figsize=(15,6))\n",
    "sns.histplot(data=df, x='earliest_cr_line_year', hue='loan_status', bins=30)"
   ]
  },
  {
   "cell_type": "markdown",
   "id": "882e7a2c",
   "metadata": {},
   "source": [
    "#### initial_list_status"
   ]
  },
  {
   "cell_type": "markdown",
   "id": "66c93783",
   "metadata": {},
   "source": [
    "We set $w\\rightarrow 1$ and $f\\rightarrow 0$"
   ]
  },
  {
   "cell_type": "code",
   "execution_count": 51,
   "id": "ef996949",
   "metadata": {},
   "outputs": [],
   "source": [
    "df['initial_list_status_w'] =  df['initial_list_status'].apply(lambda x: int(x=='w'))"
   ]
  },
  {
   "cell_type": "code",
   "execution_count": 52,
   "id": "d8ba8c27",
   "metadata": {},
   "outputs": [],
   "source": [
    "df = df.drop('initial_list_status',axis=1)"
   ]
  },
  {
   "cell_type": "markdown",
   "id": "c4ccc5cf",
   "metadata": {},
   "source": [
    "#### verification_status"
   ]
  },
  {
   "cell_type": "code",
   "execution_count": 53,
   "id": "0df4fac6",
   "metadata": {},
   "outputs": [
    {
     "data": {
      "text/plain": [
       "array(['Not Verified', 'Source Verified', 'Verified'], dtype=object)"
      ]
     },
     "execution_count": 53,
     "metadata": {},
     "output_type": "execute_result"
    }
   ],
   "source": [
    "df['verification_status'].unique()"
   ]
  },
  {
   "cell_type": "code",
   "execution_count": 54,
   "id": "2d168ef3",
   "metadata": {},
   "outputs": [
    {
     "data": {
      "text/plain": [
       "<AxesSubplot:xlabel='verification_status', ylabel='count'>"
      ]
     },
     "execution_count": 54,
     "metadata": {},
     "output_type": "execute_result"
    },
    {
     "data": {
      "image/png": "[encoded data removed]",
      "text/plain": [
       "<Figure size 1080x432 with 1 Axes>"
      ]
     },
     "metadata": {},
     "output_type": "display_data"
    }
   ],
   "source": [
    "plt.figure(figsize=(15,6))\n",
    "sns.countplot(data=df, x='verification_status', hue='loan_status')"
   ]
  },
  {
   "cell_type": "markdown",
   "id": "6f12a9a5",
   "metadata": {},
   "source": [
    "As expected, the Not verified status does impact a little bit the loan status."
   ]
  },
  {
   "cell_type": "code",
   "execution_count": 55,
   "id": "f714b3e6",
   "metadata": {},
   "outputs": [],
   "source": [
    "df = pd.concat([df,pd.get_dummies(df['verification_status'],drop_first=True)],axis=1)"
   ]
  },
  {
   "cell_type": "code",
   "execution_count": 56,
   "id": "c6b8f402",
   "metadata": {},
   "outputs": [],
   "source": [
    "df = df.drop('verification_status',axis=1)"
   ]
  },
  {
   "cell_type": "markdown",
   "id": "c2c93653",
   "metadata": {},
   "source": [
    "#### revol_util\n",
    "There are some nan values here and in the next columns. In this case we'll set them to the mean value of the column"
   ]
  },
  {
   "cell_type": "code",
   "execution_count": 57,
   "id": "0b9f2f92",
   "metadata": {},
   "outputs": [],
   "source": [
    "df['revol_util'] = df['revol_util'].fillna(df['revol_util'].mean())"
   ]
  },
  {
   "cell_type": "code",
   "execution_count": 58,
   "id": "4b71ecc6",
   "metadata": {},
   "outputs": [
    {
     "data": {
      "text/plain": [
       "0         41.8\n",
       "1         53.3\n",
       "2         92.2\n",
       "3         21.5\n",
       "4         69.8\n",
       "          ... \n",
       "396025    34.3\n",
       "396026    95.7\n",
       "396027    66.9\n",
       "396028    53.8\n",
       "396029    91.3\n",
       "Name: revol_util, Length: 396030, dtype: float64"
      ]
     },
     "execution_count": 58,
     "metadata": {},
     "output_type": "execute_result"
    }
   ],
   "source": [
    "df['revol_util']"
   ]
  },
  {
   "cell_type": "markdown",
   "id": "79c3100a",
   "metadata": {},
   "source": [
    "#### mort_acc"
   ]
  },
  {
   "cell_type": "code",
   "execution_count": 59,
   "id": "040810eb",
   "metadata": {},
   "outputs": [
    {
     "data": {
      "text/plain": [
       "<AxesSubplot:xlabel='mort_acc', ylabel='count'>"
      ]
     },
     "execution_count": 59,
     "metadata": {},
     "output_type": "execute_result"
    },
    {
     "data": {
      "image/png": "[encoded data removed]",
      "text/plain": [
       "<Figure size 1080x432 with 1 Axes>"
      ]
     },
     "metadata": {},
     "output_type": "display_data"
    }
   ],
   "source": [
    "plt.figure(figsize=(15,6))\n",
    "sns.countplot(data=df, x='mort_acc', hue='loan_status')"
   ]
  },
  {
   "cell_type": "code",
   "execution_count": 60,
   "id": "38572e97",
   "metadata": {},
   "outputs": [],
   "source": [
    "df['mort_acc'] = df['mort_acc'].fillna(0)"
   ]
  },
  {
   "cell_type": "markdown",
   "id": "6d53ec81",
   "metadata": {},
   "source": [
    "#### pub_rec_bankruptcies"
   ]
  },
  {
   "cell_type": "code",
   "execution_count": 61,
   "id": "fad78d05",
   "metadata": {
    "scrolled": false
   },
   "outputs": [
    {
     "data": {
      "text/plain": [
       "<AxesSubplot:xlabel='pub_rec_bankruptcies', ylabel='count'>"
      ]
     },
     "execution_count": 61,
     "metadata": {},
     "output_type": "execute_result"
    },
    {
     "data": {
      "image/png": "[encoded data removed]",
      "text/plain": [
       "<Figure size 1080x432 with 1 Axes>"
      ]
     },
     "metadata": {},
     "output_type": "display_data"
    }
   ],
   "source": [
    "plt.figure(figsize=(15,6))\n",
    "sns.countplot(data=df, x='pub_rec_bankruptcies', hue='loan_status')"
   ]
  },
  {
   "cell_type": "code",
   "execution_count": 62,
   "id": "44da2d5f",
   "metadata": {},
   "outputs": [],
   "source": [
    "df['pub_rec_bankruptcies'] = df['pub_rec_bankruptcies'].fillna(0)"
   ]
  },
  {
   "cell_type": "markdown",
   "id": "7374e52f",
   "metadata": {},
   "source": [
    "#### loan_amnt"
   ]
  },
  {
   "cell_type": "code",
   "execution_count": 63,
   "id": "d5c5ee29",
   "metadata": {
    "scrolled": false
   },
   "outputs": [
    {
     "data": {
      "text/plain": [
       "<AxesSubplot:xlabel='loan_amnt', ylabel='Count'>"
      ]
     },
     "execution_count": 63,
     "metadata": {},
     "output_type": "execute_result"
    },
    {
     "data": {
      "image/png": "[encoded data removed]",
      "text/plain": [
       "<Figure size 1080x432 with 1 Axes>"
      ]
     },
     "metadata": {},
     "output_type": "display_data"
    }
   ],
   "source": [
    "plt.figure(figsize=(15,6))\n",
    "sns.histplot(data=df, x='loan_amnt', bins=40)"
   ]
  },
  {
   "cell_type": "markdown",
   "id": "89eef911",
   "metadata": {},
   "source": [
    "#### After we extracted the most out of our info, we can try to vizualice some of the variables and dow do they correlate"
   ]
  },
  {
   "cell_type": "code",
   "execution_count": 64,
   "id": "844e0b58",
   "metadata": {
    "scrolled": false
   },
   "outputs": [
    {
     "data": {
      "text/plain": [
       "<AxesSubplot:>"
      ]
     },
     "execution_count": 64,
     "metadata": {},
     "output_type": "execute_result"
    },
    {
     "data": {
      "image/png": "[encoded data removed]",
      "text/plain": [
       "<Figure size 1080x432 with 1 Axes>"
      ]
     },
     "metadata": {},
     "output_type": "display_data"
    }
   ],
   "source": [
    "plt.figure(figsize=(15,6))\n",
    "df.corr()['loan_status'].sort_values()[:-1].plot(kind='bar')"
   ]
  },
  {
   "cell_type": "code",
   "execution_count": 65,
   "id": "9a5147de",
   "metadata": {},
   "outputs": [
    {
     "name": "stdout",
     "output_type": "stream",
     "text": [
      "<class 'pandas.core.frame.DataFrame'>\n",
      "RangeIndex: 396030 entries, 0 to 396029\n",
      "Data columns (total 69 columns):\n",
      " #   Column                 Non-Null Count   Dtype  \n",
      "---  ------                 --------------   -----  \n",
      " 0   OTHER                  396030 non-null  uint8  \n",
      " 1   OWN                    396030 non-null  uint8  \n",
      " 2   RENT                   396030 non-null  uint8  \n",
      " 3   credit_card            396030 non-null  uint8  \n",
      " 4   debt_consolidation     396030 non-null  uint8  \n",
      " 5   educational            396030 non-null  uint8  \n",
      " 6   home_improvement       396030 non-null  uint8  \n",
      " 7   house                  396030 non-null  uint8  \n",
      " 8   major_purchase         396030 non-null  uint8  \n",
      " 9   medical                396030 non-null  uint8  \n",
      " 10  moving                 396030 non-null  uint8  \n",
      " 11  other                  396030 non-null  uint8  \n",
      " 12  renewable_energy       396030 non-null  uint8  \n",
      " 13  small_business         396030 non-null  uint8  \n",
      " 14  vacation               396030 non-null  uint8  \n",
      " 15  wedding                396030 non-null  uint8  \n",
      " 16  loan_amnt              396030 non-null  float64\n",
      " 17  term                   396030 non-null  float64\n",
      " 18  int_rate               396030 non-null  float64\n",
      " 19  installment            396030 non-null  float64\n",
      " 20  annual_inc             396030 non-null  float64\n",
      " 21  loan_status            396030 non-null  int64  \n",
      " 22  dti                    396030 non-null  float64\n",
      " 23  open_acc               396030 non-null  float64\n",
      " 24  pub_rec                396030 non-null  float64\n",
      " 25  revol_bal              396030 non-null  float64\n",
      " 26  revol_util             396030 non-null  float64\n",
      " 27  total_acc              396030 non-null  float64\n",
      " 28  mort_acc               396030 non-null  float64\n",
      " 29  pub_rec_bankruptcies   396030 non-null  float64\n",
      " 30  zip_code               396030 non-null  int64  \n",
      " 31  A2                     396030 non-null  uint8  \n",
      " 32  A3                     396030 non-null  uint8  \n",
      " 33  A4                     396030 non-null  uint8  \n",
      " 34  A5                     396030 non-null  uint8  \n",
      " 35  B1                     396030 non-null  uint8  \n",
      " 36  B2                     396030 non-null  uint8  \n",
      " 37  B3                     396030 non-null  uint8  \n",
      " 38  B4                     396030 non-null  uint8  \n",
      " 39  B5                     396030 non-null  uint8  \n",
      " 40  C1                     396030 non-null  uint8  \n",
      " 41  C2                     396030 non-null  uint8  \n",
      " 42  C3                     396030 non-null  uint8  \n",
      " 43  C4                     396030 non-null  uint8  \n",
      " 44  C5                     396030 non-null  uint8  \n",
      " 45  D1                     396030 non-null  uint8  \n",
      " 46  D2                     396030 non-null  uint8  \n",
      " 47  D3                     396030 non-null  uint8  \n",
      " 48  D4                     396030 non-null  uint8  \n",
      " 49  D5                     396030 non-null  uint8  \n",
      " 50  E1                     396030 non-null  uint8  \n",
      " 51  E2                     396030 non-null  uint8  \n",
      " 52  E3                     396030 non-null  uint8  \n",
      " 53  E4                     396030 non-null  uint8  \n",
      " 54  E5                     396030 non-null  uint8  \n",
      " 55  F1                     396030 non-null  uint8  \n",
      " 56  F2                     396030 non-null  uint8  \n",
      " 57  F3                     396030 non-null  uint8  \n",
      " 58  F4                     396030 non-null  uint8  \n",
      " 59  F5                     396030 non-null  uint8  \n",
      " 60  G1                     396030 non-null  uint8  \n",
      " 61  G2                     396030 non-null  uint8  \n",
      " 62  G3                     396030 non-null  uint8  \n",
      " 63  G4                     396030 non-null  uint8  \n",
      " 64  G5                     396030 non-null  uint8  \n",
      " 65  earliest_cr_line_year  396030 non-null  int64  \n",
      " 66  initial_list_status_w  396030 non-null  int64  \n",
      " 67  Source Verified        396030 non-null  uint8  \n",
      " 68  Verified               396030 non-null  uint8  \n",
      "dtypes: float64(13), int64(4), uint8(52)\n",
      "memory usage: 71.0 MB\n"
     ]
    }
   ],
   "source": [
    "df.info()"
   ]
  },
  {
   "cell_type": "markdown",
   "id": "04a61ec4",
   "metadata": {},
   "source": [
    "##  Model creation"
   ]
  },
  {
   "cell_type": "code",
   "execution_count": 66,
   "id": "25a54bb9",
   "metadata": {},
   "outputs": [],
   "source": [
    "X = df.drop('loan_status',axis=1).values\n",
    "y = df['loan_status'].values"
   ]
  },
  {
   "cell_type": "code",
   "execution_count": 67,
   "id": "38030b21",
   "metadata": {},
   "outputs": [],
   "source": [
    "from sklearn.model_selection import train_test_split"
   ]
  },
  {
   "cell_type": "code",
   "execution_count": 68,
   "id": "71f28900",
   "metadata": {},
   "outputs": [],
   "source": [
    "X_train, X_test, y_train, y_test = train_test_split(X, y, test_size=0.3, random_state=101)"
   ]
  },
  {
   "cell_type": "code",
   "execution_count": 69,
   "id": "757fca88",
   "metadata": {},
   "outputs": [],
   "source": [
    "from sklearn.preprocessing import MinMaxScaler"
   ]
  },
  {
   "cell_type": "code",
   "execution_count": 70,
   "id": "d99e7e44",
   "metadata": {},
   "outputs": [],
   "source": [
    "scaler = MinMaxScaler()"
   ]
  },
  {
   "cell_type": "code",
   "execution_count": 71,
   "id": "4e55cfaf",
   "metadata": {},
   "outputs": [],
   "source": [
    "X_train = scaler.fit_transform(X_train)"
   ]
  },
  {
   "cell_type": "code",
   "execution_count": 72,
   "id": "5e484466",
   "metadata": {},
   "outputs": [],
   "source": [
    "X_test = scaler.transform(X_test)"
   ]
  },
  {
   "cell_type": "code",
   "execution_count": 73,
   "id": "33b089bb",
   "metadata": {},
   "outputs": [
    {
     "data": {
      "text/plain": [
       "(277221, 68)"
      ]
     },
     "execution_count": 73,
     "metadata": {},
     "output_type": "execute_result"
    }
   ],
   "source": [
    "X_train.shape"
   ]
  },
  {
   "cell_type": "code",
   "execution_count": 74,
   "id": "83d1717a",
   "metadata": {},
   "outputs": [],
   "source": [
    "from tensorflow.keras.models import Sequential"
   ]
  },
  {
   "cell_type": "code",
   "execution_count": 75,
   "id": "8cb8101b",
   "metadata": {},
   "outputs": [],
   "source": [
    "from tensorflow.keras.layers import Dense,Dropout"
   ]
  },
  {
   "cell_type": "code",
   "execution_count": 76,
   "id": "f7e3aba6",
   "metadata": {},
   "outputs": [],
   "source": [
    "from tensorflow.keras.callbacks import EarlyStopping"
   ]
  },
  {
   "cell_type": "code",
   "execution_count": 77,
   "id": "724a5e6f",
   "metadata": {},
   "outputs": [],
   "source": [
    "from tensorflow.keras.initializers import Constant"
   ]
  },
  {
   "cell_type": "code",
   "execution_count": 78,
   "id": "61ce9301",
   "metadata": {},
   "outputs": [],
   "source": [
    "cero, one = np.bincount(y)\n",
    "initial_bias = np.log(one/cero)"
   ]
  },
  {
   "cell_type": "markdown",
   "id": "5773c32d",
   "metadata": {},
   "source": [
    "Actual definition of the nn sequential model with sigmoid output for binary classification"
   ]
  },
  {
   "cell_type": "code",
   "execution_count": null,
   "id": "b7bd9e4e",
   "metadata": {},
   "outputs": [],
   "source": [
    "nn = Sequential()\n",
    "\n",
    "nn.add(Dense(68, activation='relu',bias_initializer=Constant(initial_bias))) #input\n",
    "nn.add(Dropout(0.1))\n",
    "\n",
    "nn.add(Dense(51, activation='relu'))\n",
    "nn.add(Dropout(0.1))\n",
    "\n",
    "nn.add(Dense(34, activation='relu')) \n",
    "nn.add(Dropout(0.1))\n",
    "\n",
    "nn.add(Dense(17, activation='relu')) \n",
    "nn.add(Dropout(0.1))\n",
    "\n",
    "nn.add(Dense(1, activation='sigmoid')) #output\n",
    "\n",
    "nn.compile(loss='binary_crossentropy', optimizer='adam')"
   ]
  },
  {
   "cell_type": "markdown",
   "id": "2ded645a",
   "metadata": {},
   "source": [
    "We add a callback to avoid overfittig the model"
   ]
  },
  {
   "cell_type": "code",
   "execution_count": 80,
   "id": "6bb67ab0",
   "metadata": {},
   "outputs": [],
   "source": [
    "callback = EarlyStopping(monitor='val_loss', mode='auto', patience=20, verbose=1,restore_best_weights=True)"
   ]
  },
  {
   "cell_type": "code",
   "execution_count": 81,
   "id": "0d091262",
   "metadata": {
    "scrolled": true
   },
   "outputs": [
    {
     "name": "stdout",
     "output_type": "stream",
     "text": [
      "Epoch 1/500\n",
      "8664/8664 [==============================] - 41s 5ms/step - loss: 0.3929 - val_loss: 0.3503\n",
      "Epoch 2/500\n",
      "8664/8664 [==============================] - 36s 4ms/step - loss: 0.3179 - val_loss: 0.2804\n",
      "Epoch 3/500\n",
      "8664/8664 [==============================] - 36s 4ms/step - loss: 0.2881 - val_loss: 0.2789\n",
      "Epoch 4/500\n",
      "8664/8664 [==============================] - 37s 4ms/step - loss: 0.2846 - val_loss: 0.2790\n",
      "Epoch 5/500\n",
      "8664/8664 [==============================] - 36s 4ms/step - loss: 0.2834 - val_loss: 0.2775\n",
      "Epoch 6/500\n",
      "8664/8664 [==============================] - 36s 4ms/step - loss: 0.2822 - val_loss: 0.2772\n",
      "Epoch 7/500\n",
      "8664/8664 [==============================] - 40s 5ms/step - loss: 0.2815 - val_loss: 0.2775\n",
      "Epoch 8/500\n",
      "8664/8664 [==============================] - 40s 5ms/step - loss: 0.2807 - val_loss: 0.2771\n",
      "Epoch 9/500\n",
      "8664/8664 [==============================] - 39s 5ms/step - loss: 0.2806 - val_loss: 0.2768\n",
      "Epoch 10/500\n",
      "8664/8664 [==============================] - 35s 4ms/step - loss: 0.2802 - val_loss: 0.2765\n",
      "Epoch 11/500\n",
      "8664/8664 [==============================] - 35s 4ms/step - loss: 0.2796 - val_loss: 0.2768\n",
      "Epoch 12/500\n",
      "8664/8664 [==============================] - 51s 6ms/step - loss: 0.2800 - val_loss: 0.2758\n",
      "Epoch 13/500\n",
      "8664/8664 [==============================] - 54s 6ms/step - loss: 0.2794 - val_loss: 0.2760\n",
      "Epoch 14/500\n",
      "8664/8664 [==============================] - 45s 5ms/step - loss: 0.2793 - val_loss: 0.2757\n",
      "Epoch 15/500\n",
      "8664/8664 [==============================] - 48s 6ms/step - loss: 0.2789 - val_loss: 0.2764\n",
      "Epoch 16/500\n",
      "8664/8664 [==============================] - 45s 5ms/step - loss: 0.2783 - val_loss: 0.2761\n",
      "Epoch 17/500\n",
      "8664/8664 [==============================] - 39s 4ms/step - loss: 0.2784 - val_loss: 0.2755\n",
      "Epoch 18/500\n",
      "8664/8664 [==============================] - 34s 4ms/step - loss: 0.2780 - val_loss: 0.2756\n",
      "Epoch 19/500\n",
      "8664/8664 [==============================] - 34s 4ms/step - loss: 0.2777 - val_loss: 0.2761\n",
      "Epoch 20/500\n",
      "8664/8664 [==============================] - 34s 4ms/step - loss: 0.2779 - val_loss: 0.2755\n",
      "Epoch 21/500\n",
      "8664/8664 [==============================] - 33s 4ms/step - loss: 0.2774 - val_loss: 0.2765\n",
      "Epoch 22/500\n",
      "8664/8664 [==============================] - 39s 4ms/step - loss: 0.2774 - val_loss: 0.2763\n",
      "Epoch 23/500\n",
      "8664/8664 [==============================] - 38s 4ms/step - loss: 0.2772 - val_loss: 0.2762\n",
      "Epoch 24/500\n",
      "8664/8664 [==============================] - 35s 4ms/step - loss: 0.2771 - val_loss: 0.2756\n",
      "Epoch 25/500\n",
      "8664/8664 [==============================] - 34s 4ms/step - loss: 0.2771 - val_loss: 0.2750\n",
      "Epoch 26/500\n",
      "8664/8664 [==============================] - 38s 4ms/step - loss: 0.2766 - val_loss: 0.2761\n",
      "Epoch 27/500\n",
      "8664/8664 [==============================] - 34s 4ms/step - loss: 0.2763 - val_loss: 0.2752\n",
      "Epoch 28/500\n",
      "8664/8664 [==============================] - 38s 4ms/step - loss: 0.2763 - val_loss: 0.2775\n",
      "Epoch 29/500\n",
      "8664/8664 [==============================] - 38s 4ms/step - loss: 0.2761 - val_loss: 0.2761\n",
      "Epoch 30/500\n",
      "8664/8664 [==============================] - 34s 4ms/step - loss: 0.2760 - val_loss: 0.2754\n",
      "Epoch 31/500\n",
      "8664/8664 [==============================] - 38s 4ms/step - loss: 0.2760 - val_loss: 0.2749\n",
      "Epoch 32/500\n",
      "8664/8664 [==============================] - 34s 4ms/step - loss: 0.2760 - val_loss: 0.2750\n",
      "Epoch 33/500\n",
      "8664/8664 [==============================] - 34s 4ms/step - loss: 0.2751 - val_loss: 0.2753\n",
      "Epoch 34/500\n",
      "8664/8664 [==============================] - 38s 4ms/step - loss: 0.2757 - val_loss: 0.2749\n",
      "Epoch 35/500\n",
      "8664/8664 [==============================] - 39s 4ms/step - loss: 0.2751 - val_loss: 0.2761\n",
      "Epoch 36/500\n",
      "8664/8664 [==============================] - 41s 5ms/step - loss: 0.2751 - val_loss: 0.2741\n",
      "Epoch 37/500\n",
      "8664/8664 [==============================] - 34s 4ms/step - loss: 0.2749 - val_loss: 0.2751\n",
      "Epoch 38/500\n",
      "8664/8664 [==============================] - 37s 4ms/step - loss: 0.2744 - val_loss: 0.2752\n",
      "Epoch 39/500\n",
      "8664/8664 [==============================] - 38s 4ms/step - loss: 0.2741 - val_loss: 0.2745\n",
      "Epoch 40/500\n",
      "8664/8664 [==============================] - 39s 4ms/step - loss: 0.2744 - val_loss: 0.2752\n",
      "Epoch 41/500\n",
      "8664/8664 [==============================] - 34s 4ms/step - loss: 0.2738 - val_loss: 0.2728\n",
      "Epoch 42/500\n",
      "8664/8664 [==============================] - 34s 4ms/step - loss: 0.2735 - val_loss: 0.2738\n",
      "Epoch 43/500\n",
      "8664/8664 [==============================] - 39s 4ms/step - loss: 0.2732 - val_loss: 0.2739\n",
      "Epoch 44/500\n",
      "8664/8664 [==============================] - 34s 4ms/step - loss: 0.2725 - val_loss: 0.2717\n",
      "Epoch 45/500\n",
      "8664/8664 [==============================] - 38s 4ms/step - loss: 0.2721 - val_loss: 0.2732\n",
      "Epoch 46/500\n",
      "8664/8664 [==============================] - 34s 4ms/step - loss: 0.2713 - val_loss: 0.2718\n",
      "Epoch 47/500\n",
      "8664/8664 [==============================] - 34s 4ms/step - loss: 0.2708 - val_loss: 0.2708\n",
      "Epoch 48/500\n",
      "8664/8664 [==============================] - 34s 4ms/step - loss: 0.2706 - val_loss: 0.2674\n",
      "Epoch 49/500\n",
      "8664/8664 [==============================] - 35s 4ms/step - loss: 0.2696 - val_loss: 0.2684\n",
      "Epoch 50/500\n",
      "8664/8664 [==============================] - 38s 4ms/step - loss: 0.2694 - val_loss: 0.2675\n",
      "Epoch 51/500\n",
      "8664/8664 [==============================] - 34s 4ms/step - loss: 0.2685 - val_loss: 0.2662\n",
      "Epoch 52/500\n",
      "8664/8664 [==============================] - 35s 4ms/step - loss: 0.2684 - val_loss: 0.2690\n",
      "Epoch 53/500\n",
      "8664/8664 [==============================] - 35s 4ms/step - loss: 0.2681 - val_loss: 0.2642\n",
      "Epoch 54/500\n",
      "8664/8664 [==============================] - 39s 5ms/step - loss: 0.2679 - val_loss: 0.2684\n",
      "Epoch 55/500\n",
      "8664/8664 [==============================] - 53s 6ms/step - loss: 0.2671 - val_loss: 0.2671\n",
      "Epoch 56/500\n",
      "8664/8664 [==============================] - 51s 6ms/step - loss: 0.2673 - val_loss: 0.2658\n",
      "Epoch 57/500\n",
      "8664/8664 [==============================] - 51s 6ms/step - loss: 0.2660 - val_loss: 0.2706\n",
      "Epoch 58/500\n",
      "8664/8664 [==============================] - 42s 5ms/step - loss: 0.2667 - val_loss: 0.2662\n",
      "Epoch 59/500\n",
      "8664/8664 [==============================] - 38s 4ms/step - loss: 0.2661 - val_loss: 0.2624\n",
      "Epoch 60/500\n",
      "8664/8664 [==============================] - 39s 4ms/step - loss: 0.2655 - val_loss: 0.2740\n",
      "Epoch 61/500\n",
      "8664/8664 [==============================] - 39s 5ms/step - loss: 0.2669 - val_loss: 0.2662\n",
      "Epoch 62/500\n",
      "8664/8664 [==============================] - 39s 4ms/step - loss: 0.2660 - val_loss: 0.2657\n",
      "Epoch 63/500\n",
      "8664/8664 [==============================] - 34s 4ms/step - loss: 0.2659 - val_loss: 0.2672\n",
      "Epoch 64/500\n",
      "8664/8664 [==============================] - 34s 4ms/step - loss: 0.2661 - val_loss: 0.2650\n",
      "Epoch 65/500\n",
      "8664/8664 [==============================] - 39s 5ms/step - loss: 0.2679 - val_loss: 0.2679\n",
      "Epoch 66/500\n",
      "8664/8664 [==============================] - 38s 4ms/step - loss: 0.2668 - val_loss: 0.2664\n",
      "Epoch 67/500\n",
      "8664/8664 [==============================] - 45s 5ms/step - loss: 0.2666 - val_loss: 0.2643\n",
      "Epoch 68/500\n",
      "8664/8664 [==============================] - 53s 6ms/step - loss: 0.2670 - val_loss: 0.2663\n",
      "Epoch 69/500\n",
      "8664/8664 [==============================] - 50s 6ms/step - loss: 0.2667 - val_loss: 0.2653\n",
      "Epoch 70/500\n",
      "8664/8664 [==============================] - 46s 5ms/step - loss: 0.2667 - val_loss: 0.2711\n",
      "Epoch 71/500\n",
      "8664/8664 [==============================] - 34s 4ms/step - loss: 0.2659 - val_loss: 0.2703\n",
      "Epoch 72/500\n",
      "8664/8664 [==============================] - 34s 4ms/step - loss: 0.2653 - val_loss: 0.2654\n",
      "Epoch 73/500\n",
      "8664/8664 [==============================] - 39s 5ms/step - loss: 0.2658 - val_loss: 0.2639\n",
      "Epoch 74/500\n",
      "8664/8664 [==============================] - 38s 4ms/step - loss: 0.2652 - val_loss: 0.2730\n",
      "Epoch 75/500\n",
      "8664/8664 [==============================] - 39s 4ms/step - loss: 0.2658 - val_loss: 0.2634\n",
      "Epoch 76/500\n",
      "8664/8664 [==============================] - 39s 4ms/step - loss: 0.2651 - val_loss: 0.2668\n",
      "Epoch 77/500\n",
      "8664/8664 [==============================] - 34s 4ms/step - loss: 0.2646 - val_loss: 0.2648\n",
      "Epoch 78/500\n",
      "8664/8664 [==============================] - 39s 4ms/step - loss: 0.2645 - val_loss: 0.2713\n",
      "Epoch 79/500\n"
     ]
    },
    {
     "name": "stdout",
     "output_type": "stream",
     "text": [
      "8664/8664 [==============================] - 39s 4ms/step - loss: 0.2645 - val_loss: 0.2657\n",
      "Restoring model weights from the end of the best epoch.\n",
      "Epoch 00079: early stopping\n"
     ]
    },
    {
     "data": {
      "text/plain": [
       "<keras.callbacks.History at 0x7fadcaef53a0>"
      ]
     },
     "execution_count": 81,
     "metadata": {},
     "output_type": "execute_result"
    }
   ],
   "source": [
    "nn.fit(x=X_train, y=y_train, epochs=500, validation_data=(X_test,y_test),callbacks=[callback])"
   ]
  },
  {
   "cell_type": "code",
   "execution_count": 82,
   "id": "26d57823",
   "metadata": {},
   "outputs": [],
   "source": [
    "losses = pd.DataFrame(nn.history.history)"
   ]
  },
  {
   "cell_type": "code",
   "execution_count": 83,
   "id": "2531b334",
   "metadata": {},
   "outputs": [
    {
     "data": {
      "text/plain": [
       "<AxesSubplot:>"
      ]
     },
     "execution_count": 83,
     "metadata": {},
     "output_type": "execute_result"
    },
    {
     "data": {
      "image/png": "[encoded data removed]",
      "text/plain": [
       "<Figure size 1080x432 with 1 Axes>"
      ]
     },
     "metadata": {},
     "output_type": "display_data"
    }
   ],
   "source": [
    "losses.plot(figsize=(15,6))"
   ]
  },
  {
   "cell_type": "code",
   "execution_count": 84,
   "id": "24733947",
   "metadata": {},
   "outputs": [],
   "source": [
    "y_pred = np.round(nn.predict(X_test))"
   ]
  },
  {
   "cell_type": "code",
   "execution_count": 85,
   "id": "ac1c52ed",
   "metadata": {},
   "outputs": [],
   "source": [
    "from sklearn.metrics import classification_report,confusion_matrix"
   ]
  },
  {
   "cell_type": "code",
   "execution_count": 86,
   "id": "020618f3",
   "metadata": {},
   "outputs": [
    {
     "name": "stdout",
     "output_type": "stream",
     "text": [
      "              precision    recall  f1-score   support\n",
      "\n",
      "           0       0.96      0.45      0.61     23260\n",
      "           1       0.88      1.00      0.93     95549\n",
      "\n",
      "    accuracy                           0.89    118809\n",
      "   macro avg       0.92      0.72      0.77    118809\n",
      "weighted avg       0.90      0.89      0.87    118809\n",
      "\n",
      "\n",
      "\n",
      "[[10422 12838]\n",
      " [  404 95145]]\n"
     ]
    }
   ],
   "source": [
    "print(classification_report(y_test,y_pred))\n",
    "print('\\n')\n",
    "print(confusion_matrix(y_test,y_pred))"
   ]
  },
  {
   "cell_type": "code",
   "execution_count": 15,
   "id": "1c293e6b",
   "metadata": {},
   "outputs": [
    {
     "data": {
      "text/plain": [
       "80.38709188697825"
      ]
     },
     "execution_count": 15,
     "metadata": {},
     "output_type": "execute_result"
    }
   ],
   "source": [
    "((df['loan_status'] ==1).sum()/396030)*100"
   ]
  },
  {
   "cell_type": "markdown",
   "id": "5abcdedf",
   "metadata": {},
   "source": [
    "0.89% of accuracy is pretty good, even when taking in count that by just choosing one option (fully paid) you would get 80% accuracy."
   ]
  }
 ],
 "metadata": {
  "kernelspec": {
   "display_name": "Python 3",
   "language": "python",
   "name": "python3"
  },
  "language_info": {
   "codemirror_mode": {
    "name": "ipython",
    "version": 3
   },
   "file_extension": ".py",
   "mimetype": "text/x-python",
   "name": "python",
   "nbconvert_exporter": "python",
   "pygments_lexer": "ipython3",
   "version": "3.8.8"
  }
 },
 "nbformat": 4,
 "nbformat_minor": 5
}
